{
 "cells": [
  {
   "cell_type": "markdown",
   "id": "b1bc8e6d",
   "metadata": {},
   "source": [
    "## Ứng dụng quản lý việc đăng ký khóa học của sinh viên"
   ]
  },
  {
   "cell_type": "markdown",
   "id": "5b119db4",
   "metadata": {},
   "source": [
    "### Students (Thông tin sinh viên)\n",
    "+ MSSV (string)\n",
    "+ Tên (string)\n",
    "+ Ngày sinh (datatime)\n",
    "+ email (string)\n",
    "+ điện thoại string[10]\n",
    "+ địa chỉ (string)"
   ]
  },
  {
   "cell_type": "markdown",
   "id": "16d67348",
   "metadata": {},
   "source": [
    "### Courses (Thông tin khóa học)\n",
    "+ Mã khóa học (string)\n",
    "+ Tên khóa học (string)\n",
    "+ Mô tả (string)\n",
    "+ Số tín chỉ (int)"
   ]
  },
  {
   "cell_type": "markdown",
   "id": "9e98c2cd",
   "metadata": {},
   "source": [
    "### Enrollment (Thông tin đăng ký khóa học của sinh viên)\n",
    "+ Mã số đăng ký khóa học (int)\n",
    "+ MSSV (string)\n",
    "+ mã khóa học (string)\n",
    "+ ngày đăng kí khóa học (datetime)"
   ]
  },
  {
   "cell_type": "code",
   "execution_count": 11,
   "id": "20dc201b",
   "metadata": {},
   "outputs": [],
   "source": [
    "import mysql.connector\n",
    "from mysql.connector import errorcode"
   ]
  },
  {
   "cell_type": "code",
   "execution_count": 19,
   "id": "c212bb22",
   "metadata": {},
   "outputs": [],
   "source": [
    "config = {\n",
    "    'user' : 'root',\n",
    "    'password': '123456789',\n",
    "    'host': 'localhost'\n",
    "}"
   ]
  },
  {
   "cell_type": "markdown",
   "id": "5924b9e9",
   "metadata": {},
   "source": [
    "### Các kiểm tra bắt lỗi"
   ]
  },
  {
   "cell_type": "code",
   "execution_count": 24,
   "id": "5e8673e6",
   "metadata": {},
   "outputs": [
    {
     "name": "stdout",
     "output_type": "stream",
     "text": [
      "Connect MySQL Server successfully\n"
     ]
    }
   ],
   "source": [
    "#Kiem tra connect voi MySQL\n",
    "try:\n",
    "    # conn: connection\n",
    "    conn = mysql.connector.connect(**config)\n",
    "    cursor = conn.cursor()\n",
    "    print(\"Connect MySQL Server successfully\")\n",
    "except mysql.connector.Error as err:\n",
    "    if err.errno == errorcode.ER_ACCESS_DENIED_ERROR:\n",
    "        print(\"Connect error, please check user and password again\")\n",
    "    else:\n",
    "        print(err)"
   ]
  },
  {
   "cell_type": "code",
   "execution_count": null,
   "id": "36c2b84c",
   "metadata": {},
   "outputs": [
    {
     "name": "stdout",
     "output_type": "stream",
     "text": [
      "Database already created\n"
     ]
    }
   ],
   "source": [
    "#Tạo một database và kiểm tra đã tồn tại hay chưa\n",
    "def dataBase_conn(input):\n",
    "    try:\n",
    "        cursor.execute(f\"CREATE DATABASE {input}\")\n",
    "    except mysql.connector.Error as err:\n",
    "        if (err.errno == errorcode.ER_DB_CREATE_EXISTS) :\n",
    "            print(\"Database already created\")\n",
    "        else:\n",
    "            print(err)\n",
    "            \n",
    "dataBase_conn(\"Course_Registration\")"
   ]
  },
  {
   "cell_type": "code",
   "execution_count": 44,
   "id": "32c78c11",
   "metadata": {},
   "outputs": [],
   "source": [
    "#Ket noi su dung database Course_Registration\n",
    "def checkConn():\n",
    "    try:\n",
    "        conn.database = config['database']\n",
    "        print(\"Connect DB successfully\")\n",
    "    except mysql.connector.Error as err:\n",
    "        print(\"Cannot connect DB\")\n",
    "        print(err)"
   ]
  },
  {
   "cell_type": "code",
   "execution_count": 35,
   "id": "2564ee44",
   "metadata": {},
   "outputs": [],
   "source": [
    "def checkTable(input):\n",
    "    try:\n",
    "        cursor.execute(input)\n",
    "        print(f\"Create table successfully\")\n",
    "    except mysql.connector.Error as err:\n",
    "        if err.errno == errorcode.ER_TABLE_EXISTS_ERROR:\n",
    "            print(\"The table is existing\")\n",
    "        else:\n",
    "            print(err)"
   ]
  },
  {
   "cell_type": "code",
   "execution_count": 1,
   "id": "64a7f12a",
   "metadata": {},
   "outputs": [],
   "source": [
    "def checkUpdate(input1, input2):\n",
    "    try:\n",
    "        cursor.execute(input1, input2)\n",
    "        conn.commit()\n",
    "        print(\"Update data successfully\")\n",
    "    except mysql.connector.Error as err:\n",
    "        print(f\"Error: {err}\")\n",
    "        conn.rollback()"
   ]
  },
  {
   "cell_type": "markdown",
   "id": "9f9bd560",
   "metadata": {},
   "source": [
    "### Cài đặt 3 Thông tin của chương trình"
   ]
  },
  {
   "cell_type": "markdown",
   "id": "41a9f1c6",
   "metadata": {},
   "source": [
    "+ Students (Thông tin sinh viên)"
   ]
  },
  {
   "cell_type": "code",
   "execution_count": 46,
   "id": "bee54162",
   "metadata": {},
   "outputs": [
    {
     "name": "stdout",
     "output_type": "stream",
     "text": [
      "Connect DB successfully\n",
      "Create table successfully\n"
     ]
    }
   ],
   "source": [
    "config['database'] = 'Course_Registration'\n",
    "checkConn()\n",
    "\n",
    "sql_Students = (\n",
    "    \"CREATE TABLE Students (\"\n",
    "    \" MSSV VARCHAR(255) primary key,\"\n",
    "    \" Hovaten VARCHAR(255),\"\n",
    "    \" Email VARCHAR(255),\"\n",
    "    \" Phone_no VARCHAR(10),\"\n",
    "    \" Address VARCHAR(255)\"\n",
    "    \");\"\n",
    ")\n",
    "\n",
    "checkTable(sql_Students)"
   ]
  },
  {
   "cell_type": "markdown",
   "id": "f1909cd4",
   "metadata": {},
   "source": [
    "+ Courses (Thông tin khóa học)"
   ]
  },
  {
   "cell_type": "code",
   "execution_count": 52,
   "id": "2f7a88a4",
   "metadata": {},
   "outputs": [
    {
     "name": "stdout",
     "output_type": "stream",
     "text": [
      "Connect DB successfully\n",
      "The table is existing\n"
     ]
    }
   ],
   "source": [
    "config['database'] = 'Course_Registration'\n",
    "checkConn()\n",
    "\n",
    "sql_Courses = (\n",
    "    \"CREATE TABLE Courses (\"\n",
    "    \" Course_ID VARCHAR(10) PRIMARY KEY,\" \n",
    "    \" Course_Name VARCHAR(255),\" \n",
    "    \" Description VARCHAR(255),\"\n",
    "    \" Credit INT\" \n",
    "    \");\"\n",
    ")\n",
    "\n",
    "checkTable(sql_Courses)"
   ]
  },
  {
   "cell_type": "markdown",
   "id": "2e06e7ec",
   "metadata": {},
   "source": [
    "+ Enrollment (Thông tin đăng ký khóa học của sinh viên)"
   ]
  },
  {
   "cell_type": "code",
   "execution_count": 54,
   "id": "9a4d39b5",
   "metadata": {},
   "outputs": [
    {
     "name": "stdout",
     "output_type": "stream",
     "text": [
      "Connect DB successfully\n",
      "Create table successfully\n"
     ]
    }
   ],
   "source": [
    "config['database'] = 'Course_Registration'\n",
    "checkConn()\n",
    "\n",
    "sql_Enroll = (\n",
    "    \"CREATE TABLE Enroll(\" \n",
    "    \" Regis_ID INT,\" \n",
    "    \" MSSV VARCHAR(255),\" \n",
    "    \" Course_Name VARCHAR(255),\" \n",
    "    \" Regis_date DATE\" \n",
    "    \")\"\n",
    ")\n",
    "checkTable(sql_Enroll)"
   ]
  },
  {
   "cell_type": "markdown",
   "id": "abe73128",
   "metadata": {},
   "source": [
    "### Close connect with MySQL (end)"
   ]
  },
  {
   "cell_type": "code",
   "execution_count": 2,
   "id": "0d964571",
   "metadata": {},
   "outputs": [
    {
     "ename": "NameError",
     "evalue": "name 'cursor' is not defined",
     "output_type": "error",
     "traceback": [
      "\u001b[31m---------------------------------------------------------------------------\u001b[39m",
      "\u001b[31mNameError\u001b[39m                                 Traceback (most recent call last)",
      "\u001b[36mCell\u001b[39m\u001b[36m \u001b[39m\u001b[32mIn[2]\u001b[39m\u001b[32m, line 1\u001b[39m\n\u001b[32m----> \u001b[39m\u001b[32m1\u001b[39m \u001b[43mcursor\u001b[49m.close()\n\u001b[32m      2\u001b[39m conn.close()\n",
      "\u001b[31mNameError\u001b[39m: name 'cursor' is not defined"
     ]
    }
   ],
   "source": [
    "cursor.close()\n",
    "conn.close()"
   ]
  }
 ],
 "metadata": {
  "kernelspec": {
   "display_name": "Python 3",
   "language": "python",
   "name": "python3"
  },
  "language_info": {
   "codemirror_mode": {
    "name": "ipython",
    "version": 3
   },
   "file_extension": ".py",
   "mimetype": "text/x-python",
   "name": "python",
   "nbconvert_exporter": "python",
   "pygments_lexer": "ipython3",
   "version": "3.12.10"
  }
 },
 "nbformat": 4,
 "nbformat_minor": 5
}
